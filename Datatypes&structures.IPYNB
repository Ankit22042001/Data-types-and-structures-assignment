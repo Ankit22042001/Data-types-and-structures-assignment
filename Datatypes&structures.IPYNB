{
 "cells": [
  {
   "cell_type": "code",
   "execution_count": null,
   "id": "0b391e54",
   "metadata": {},
   "outputs": [],
   "source": [
    "'''#     Q1. What are data structures, and why are they important?\n",
    "\n",
    "   ANS- Data structures are organized formats for storing, managing, and accessing data efficiently—such as lists, dictionaries,\n",
    "        sets, and tuples in Python. They are important because they enable efficient data retrieval, manipulation, and help solve complex\n",
    "        computational problems.\n",
    "    \n",
    "#     Q2. Explain the difference between mutable and immutable data types with examples?\n",
    "\n",
    "  ANS-  Mutable data types can be changed after creation (ex- lists, dictionaries), while *immutable data types* cannot be changed \n",
    "        once created (ex- tuples, strings).\n",
    "    Example: \n",
    "    - list1 = [1, 2, 3] (mutable: can modify elements)  \n",
    "    - tuple1 = (1, 2, 3) (immutable: cannot modify elements).\n",
    "    \n",
    "#     Q3. What are the main differences between lists and tuples in Python?\n",
    "\n",
    "    ANS- *Lists* are mutable, can be changed after creation, and use square brackets [ ].  \n",
    "        - *Tuples* are immutable, cannot be altered after creation, and use parentheses ( ).  \n",
    "        Lists are often used where data may be modified; tuples for fixed collections.\n",
    "    \n",
    "#     Q4. Describe how dictionaries store data.\n",
    "\n",
    "   ANS- Dictionaries* store data as key-value pairs, where each key maps to a value. They use hash tables internally to ensure \n",
    "         fast access and retrieval.\n",
    "    \n",
    "#     Q5. Why might you use a set instead of a list in Python?\n",
    "\n",
    "    ANS - Sets* are used when you need to store unique elements and perform fast membership checks. Unlike lists, \n",
    "         sets automatically remove duplicates and support efficient mathematical set operations.\n",
    "    \n",
    "#     Q6. What is a string in Python, and how is it different from a list?\n",
    "\n",
    " ANS-   A *string* is an immutable sequence of Unicode characters (e.g., \\hello\\). Unlike lists, which can hold different\n",
    "     data types and be modified, strings only hold characters and cannot be changed after creation.\n",
    "    \n",
    "#     Q7. How do tuples ensure data integrity in Python?\n",
    "\n",
    " ANS-   Tuples* are immutable, meaning their values cannot be changed after creation. This immutability ensures that data \n",
    "    remains constant and avoids accidental (or unauthorized) modifications.\n",
    "    \n",
    "#     Q8. What is a hash table, and how does it relate to dictionaries in Python?\n",
    "\n",
    "ANS-    A *hash table* is a data structure that maps keys to values using a hashing function for efficient lookup.\n",
    "     Python dictionaries use hash tables internally to store key-value pairs and allow rapid access and updates.\n",
    "    \n",
    "#     Q9. Can lists contain different data types in Python?\n",
    "\n",
    "  ANS-  Yes, *lists* can store elements of different types, such as integers, strings, and even nested lists or tuples.\n",
    "    \n",
    "#     Q10. Explain why strings are immutable in Python.\n",
    "\n",
    " ANS-   Strings* are immutable to ensure data security, allow safe sharing across threads, and optimize performance via internal memory reuse.\n",
    "    \n",
    "#     Q11. What advantages do dictionaries offer over lists for certain tasks?\n",
    "\n",
    "  ANS-  Dictionaries offer fast lookups using keys, making them better for data retrieval by unique identifiers,\n",
    "     mapping relationships, and when association is more important than order.\n",
    "    \n",
    "#     Q12. Describe a scenario where using a tuple would be preferable over a list.\n",
    "\n",
    " ANS-   Tuples are preferred when data should remain unchanged, such as storing coordinates (x, y),\n",
    "     days of the week, or function argument returns that must not be modified.\n",
    "    \n",
    "#     Q13. How do sets handle duplicate values in Python?\n",
    "\n",
    "   ANS- Sets* automatically remove duplicate values—only unique elements are stored in a set.\n",
    "    \n",
    "#     Q14. How does the “in” keyword work differently for lists and dictionaries?\n",
    "\n",
    "   ANS- For *lists*, 'in' checks if an element exists among the list’s values.  \n",
    "        For *dictionaries*, 'in' checks if a key exists in the dictionary, not a value.\n",
    "    \n",
    "#     Q15. Can you modify the elements of a tuple? Explain why or why not.\n",
    "\n",
    "   ANS- No, *tuples are immutable*—after creation, their elements cannot be changed, added, or deleted.\n",
    "    \n",
    "#     Q16. What is a nested dictionary, and give an example of its use case?\n",
    "\n",
    "   ANS- A *nested dictionary* is a dictionary within another dictionary.  \n",
    "       Example use case: Storing student records, where each student ID maps to another dictionary containing subject scores.\n",
    "    \n",
    "#     Q17. Describe the time complexity of accessing elements in a dictionary.\n",
    "\n",
    "   ANS- Accessing dictionary elements by key has *average case time complexity  O(1) (constant time) due to hash table implementation.\n",
    "    \n",
    "#     Q18. In what situations are lists preferred over dictionaries?\n",
    "\n",
    "   ANS- Lists are preferred when order matters, elements are indexed by position, or when storing simple sequential data without key-value \n",
    "        relationships.[1]\n",
    "    \n",
    "#     Q19. Why are dictionaries considered unordered, and how does that affect data retrieval?\n",
    "\n",
    "   ANS- Dictionaries (before Python 3.7) do not guarantee order; retrieval is by key, not index. This allows for fast lookup but means items\n",
    "        are not returned in insertion sequence (starting Python 3.7+, insertion order is preserved but is not the primary retrieval method).\n",
    "    \n",
    "#    Q20. Explain the difference between a list and a dictionary in terms of data retrieval.\n",
    "    \n",
    "   ANS-  Lists* retrieve data using integer indices (position-based), whereas *dictionaries* retrieve data using keys (key-based, \n",
    "         faster lookup for large datasets).'''"
   ]
  },
  {
   "cell_type": "markdown",
   "id": "ce8b5dc2",
   "metadata": {},
   "source": [
    "                            PRACTICAL QUESTIONS                     "
   ]
  },
  {
   "cell_type": "code",
   "execution_count": null,
   "id": "162260ac",
   "metadata": {},
   "outputs": [
    {
     "name": "stdout",
     "output_type": "stream",
     "text": [
      "ANKIT SINGH\n"
     ]
    }
   ],
   "source": [
    "# Q1. Create a string with your name and print it?\n",
    "name = \"ANKIT SINGH\"\n",
    "print(name)"
   ]
  },
  {
   "cell_type": "code",
   "execution_count": null,
   "id": "888efe85",
   "metadata": {},
   "outputs": [
    {
     "name": "stdout",
     "output_type": "stream",
     "text": [
      "11\n"
     ]
    }
   ],
   "source": [
    "# Q2. Find the length of the string \"Hello World\".\n",
    "print(len(\"Hello World\"))"
   ]
  },
  {
   "cell_type": "code",
   "execution_count": null,
   "id": "491310a6",
   "metadata": {},
   "outputs": [
    {
     "name": "stdout",
     "output_type": "stream",
     "text": [
      "Pyt\n"
     ]
    }
   ],
   "source": [
    "# Q3.Write a code to Slice the first 3 characters from the string \"Python Programming\".\n",
    "print(\"Python Programming\"[:3])\n"
   ]
  },
  {
   "cell_type": "code",
   "execution_count": null,
   "id": "de334b66",
   "metadata": {},
   "outputs": [
    {
     "name": "stdout",
     "output_type": "stream",
     "text": [
      "HELLO\n"
     ]
    }
   ],
   "source": [
    "# Q4.Write a code to Convert the string \"hello\" to uppercase.\n",
    "print(\"hello\".upper())"
   ]
  },
  {
   "cell_type": "code",
   "execution_count": null,
   "id": "aab5f08e",
   "metadata": {},
   "outputs": [
    {
     "name": "stdout",
     "output_type": "stream",
     "text": [
      "I like orange\n"
     ]
    }
   ],
   "source": [
    "# Q5. Write a code to Replace \"apple\" with \"orange\" in \"I like apple\".\n",
    "print(\"I like apple\".replace(\"apple\", \"orange\"))\n",
    "    "
   ]
  },
  {
   "cell_type": "code",
   "execution_count": null,
   "id": "e43d5ee0",
   "metadata": {},
   "outputs": [
    {
     "name": "stdout",
     "output_type": "stream",
     "text": [
      "[1, 2, 3, 4, 5]\n"
     ]
    }
   ],
   "source": [
    "# Q6.Write a code to Create a list with numbers 1 to 5 and print it.\n",
    "numbers = [1, 2, 3, 4, 5]\n",
    "print(numbers)"
   ]
  },
  {
   "cell_type": "code",
   "execution_count": null,
   "id": "2438a92b",
   "metadata": {},
   "outputs": [
    {
     "name": "stdout",
     "output_type": "stream",
     "text": [
      "[1, 2, 3, 4, 10]\n"
     ]
    }
   ],
   "source": [
    "# Q7. Write a code to Append the number 10 to the list [1, 2, 3, 4].\n",
    "a = [1, 2, 3, 4]\n",
    "a.append(10)\n",
    "print(a)"
   ]
  },
  {
   "cell_type": "code",
   "execution_count": null,
   "id": "3c70b2d5",
   "metadata": {},
   "outputs": [
    {
     "name": "stdout",
     "output_type": "stream",
     "text": [
      "[1, 2, 4, 5]\n"
     ]
    }
   ],
   "source": [
    "# Q8.Write a code to Remove number 3 from the list [1, 2, 3, 4, 5].\n",
    "b = [1, 2, 3, 4, 5]\n",
    "b.remove(3)\n",
    "print(b)"
   ]
  },
  {
   "cell_type": "code",
   "execution_count": null,
   "id": "e202e793",
   "metadata": {},
   "outputs": [
    {
     "name": "stdout",
     "output_type": "stream",
     "text": [
      "b\n"
     ]
    }
   ],
   "source": [
    "# Q9.Write a code to Access the second element in the list ['a', 'b', 'c', 'd'].\n",
    "chars = ['a', 'b', 'c', 'd']\n",
    "print(chars[1])\n"
   ]
  },
  {
   "cell_type": "code",
   "execution_count": null,
   "id": "484c21b3",
   "metadata": {},
   "outputs": [
    {
     "name": "stdout",
     "output_type": "stream",
     "text": [
      "[50, 40, 20, 10]\n"
     ]
    }
   ],
   "source": [
    "# Q10.Write a code to Reverse the list [10, 20, 40, 50].\n",
    "C = [10, 20, 40, 50]\n",
    "C.reverse()\n",
    "print(C)"
   ]
  },
  {
   "cell_type": "code",
   "execution_count": null,
   "id": "79258f0b",
   "metadata": {},
   "outputs": [
    {
     "name": "stdout",
     "output_type": "stream",
     "text": [
      "(100, 200, 300)\n"
     ]
    }
   ],
   "source": [
    "# Q11.Write a code to Create a tuple with elements 100, 200, 300 and print it.\n",
    "tpl = (100, 200, 300)\n",
    "print(tpl)"
   ]
  },
  {
   "cell_type": "code",
   "execution_count": null,
   "id": "e303a246",
   "metadata": {},
   "outputs": [
    {
     "name": "stdout",
     "output_type": "stream",
     "text": [
      "blue\n"
     ]
    }
   ],
   "source": [
    "# Q12.Write a code to Access the second-to-last element of tuple ('red', 'green', 'blue', 'yellow').\n",
    "colors = ('red', 'green', 'blue', 'yellow')\n",
    "print(colors[-2])"
   ]
  },
  {
   "cell_type": "code",
   "execution_count": null,
   "id": "e5452f89",
   "metadata": {},
   "outputs": [
    {
     "name": "stdout",
     "output_type": "stream",
     "text": [
      "5\n"
     ]
    }
   ],
   "source": [
    "# Q13. Write a code to Find the minimum number in the tuple (10, 20, 5, 15).\n",
    "tpl2 = (10, 20, 5, 15)\n",
    "print(min(tpl2))"
   ]
  },
  {
   "cell_type": "code",
   "execution_count": null,
   "id": "9f9a073f",
   "metadata": {},
   "outputs": [
    {
     "name": "stdout",
     "output_type": "stream",
     "text": [
      "1\n"
     ]
    }
   ],
   "source": [
    "# Q14.Write a code to Find the index of element \"cat\" in tuple ('dog', 'cat', 'rabbit').\n",
    "animals = ('dog', 'cat', 'rabbit')\n",
    "print(animals.index('cat'))"
   ]
  },
  {
   "cell_type": "code",
   "execution_count": null,
   "id": "28daef56",
   "metadata": {},
   "outputs": [
    {
     "name": "stdout",
     "output_type": "stream",
     "text": [
      "True\n"
     ]
    }
   ],
   "source": [
    "# Q15.  Write a code to Create a tuple containing three different fruits and check if \"kiwi\" is in it.\n",
    "fruits = ('apple', 'banana', 'kiwi')\n",
    "print('kiwi' in fruits)\n"
   ]
  },
  {
   "cell_type": "code",
   "execution_count": null,
   "id": "5e498258",
   "metadata": {},
   "outputs": [
    {
     "name": "stdout",
     "output_type": "stream",
     "text": [
      "{'a', 'b', 'c'}\n"
     ]
    }
   ],
   "source": [
    "#  Q16.Write a code to  Create a set with the elements 'a', 'b', 'c' and print it.\n",
    "s = {'a', 'b', 'c'}\n",
    "print(s)\n"
   ]
  },
  {
   "cell_type": "code",
   "execution_count": null,
   "id": "7829b27b",
   "metadata": {},
   "outputs": [
    {
     "name": "stdout",
     "output_type": "stream",
     "text": [
      "set()\n"
     ]
    }
   ],
   "source": [
    "# Q17.Write a code to Clear all elements from the set {1, 2, 3, 4, 5}.\n",
    "s2 = {1, 2, 3, 4, 5}\n",
    "s2.clear()\n",
    "print(s2)"
   ]
  },
  {
   "cell_type": "code",
   "execution_count": null,
   "id": "4269d303",
   "metadata": {},
   "outputs": [
    {
     "name": "stdout",
     "output_type": "stream",
     "text": [
      "{1, 2, 3}\n"
     ]
    }
   ],
   "source": [
    "# Q18.Write a code to Remove the element 4 from the set {1, 2, 3, 4}.\n",
    "s3 = {1, 2, 3, 4}\n",
    "s3.remove(4)\n",
    "print(s3)"
   ]
  },
  {
   "cell_type": "code",
   "execution_count": null,
   "id": "3496a8c7",
   "metadata": {},
   "outputs": [
    {
     "name": "stdout",
     "output_type": "stream",
     "text": [
      "{1, 2, 3, 4, 5}\n"
     ]
    }
   ],
   "source": [
    "# Q19. Write a code to find the union of two sets {1, 2, 3} and {3, 4, 5}.\n",
    "r1 ={1, 2, 3}\n",
    "r2 ={3, 4, 5}\n",
    "print(r1.union(r2))"
   ]
  },
  {
   "cell_type": "code",
   "execution_count": null,
   "id": "d33c393e",
   "metadata": {},
   "outputs": [
    {
     "name": "stdout",
     "output_type": "stream",
     "text": [
      "{2, 3}\n"
     ]
    }
   ],
   "source": [
    "# Q20. Write a code to find the intersection of two sets {1, 2, 3} and {2, 3, 4}.\n",
    "t1 = {1, 2, 3}\n",
    "t2 = {2, 3, 4}\n",
    "print(t1.intersection(t2))\n"
   ]
  },
  {
   "cell_type": "code",
   "execution_count": null,
   "id": "826f400a",
   "metadata": {},
   "outputs": [
    {
     "name": "stdout",
     "output_type": "stream",
     "text": [
      "{'name': 'ANKIT', 'age': 24, 'city': 'Lucknow'}\n"
     ]
    }
   ],
   "source": [
    "# Q21. Create a dictionary with keys \"name\", \"age\", and \"city\", and print it\n",
    "person = {\"name\": \"ANKIT\", \"age\": 24, \"city\": \"Lucknow\"}\n",
    "print(person)"
   ]
  },
  {
   "cell_type": "code",
   "execution_count": null,
   "id": "f1d027ac",
   "metadata": {},
   "outputs": [
    {
     "name": "stdout",
     "output_type": "stream",
     "text": [
      "{'name': 'ANKIT', 'age': 24, 'city': 'Lucknow', 'country': 'USA'}\n"
     ]
    }
   ],
   "source": [
    "# Q22. Add a new key-value pair \"country\": \"USA\" to the dictionary\n",
    "person[\"country\"] = \"USA\"\n",
    "print(person)\n"
   ]
  },
  {
   "cell_type": "code",
   "execution_count": null,
   "id": "06f4c384",
   "metadata": {},
   "outputs": [
    {
     "name": "stdout",
     "output_type": "stream",
     "text": [
      "ANKIT\n"
     ]
    }
   ],
   "source": [
    "# Q23. Access the value associated with the key \"name\" in the dictionary\n",
    "print(person[\"name\"])\n"
   ]
  },
  {
   "cell_type": "code",
   "execution_count": null,
   "id": "1a23d342",
   "metadata": {},
   "outputs": [
    {
     "name": "stdout",
     "output_type": "stream",
     "text": [
      "{'name': 'ANKIT', 'city': 'Lucknow', 'country': 'USA'}\n"
     ]
    }
   ],
   "source": [
    "# Q24. Remove the key \"age\" from the dictionary\n",
    "del person[\"age\"]\n",
    "print(person)"
   ]
  },
  {
   "cell_type": "code",
   "execution_count": null,
   "id": "74ddb0df",
   "metadata": {},
   "outputs": [
    {
     "name": "stdout",
     "output_type": "stream",
     "text": [
      "True\n"
     ]
    }
   ],
   "source": [
    "# Q25. Check if the key \"city\" exists in the dictionary\n",
    "print(\"city\" in person)"
   ]
  },
  {
   "cell_type": "code",
   "execution_count": null,
   "id": "5790e78b",
   "metadata": {},
   "outputs": [
    {
     "name": "stdout",
     "output_type": "stream",
     "text": [
      "[1, 2, 3]\n",
      "(4, 5, 6)\n",
      "{'a': 7, 'b': 8}\n"
     ]
    }
   ],
   "source": [
    "# Q26. Create a list, a tuple, and a dictionary, and print them all\n",
    "my_list = [1, 2, 3]\n",
    "my_tuple = (4, 5, 6)\n",
    "my_dict = {\"a\": 7, \"b\": 8}\n",
    "print(my_list)\n",
    "print(my_tuple)\n",
    "print(my_dict)"
   ]
  },
  {
   "cell_type": "code",
   "execution_count": null,
   "id": "63700ece",
   "metadata": {},
   "outputs": [
    {
     "name": "stdout",
     "output_type": "stream",
     "text": [
      "[16, 18, 79, 82, 87]\n"
     ]
    }
   ],
   "source": [
    "# Q27. Create a list of 5 random numbers between 1 and 100, sort it in ascending order, and print\n",
    "import random\n",
    "random_nums = random.sample(range(1, 101), 5)\n",
    "random_nums.sort()\n",
    "print(random_nums)\n"
   ]
  },
  {
   "cell_type": "code",
   "execution_count": null,
   "id": "e2a26cd8",
   "metadata": {},
   "outputs": [
    {
     "name": "stdout",
     "output_type": "stream",
     "text": [
      "['apple', 'banana', 'GRAPES', 'orange', 'guava']\n"
     ]
    }
   ],
   "source": [
    "# Q28. Create a list with strings and print the element at the third index\n",
    "str_list = [\"apple\", \"banana\", \"GRAPES\", \"orange\", \"guava\"]\n",
    "print(str_list)"
   ]
  },
  {
   "cell_type": "code",
   "execution_count": null,
   "id": "10032486",
   "metadata": {},
   "outputs": [
    {
     "name": "stdout",
     "output_type": "stream",
     "text": [
      "{'x': 73, 'y': 98, 'z': 56, 'w': 89}\n"
     ]
    }
   ],
   "source": [
    "# Q29. Combine two dictionaries into one and print the result\n",
    "dict1 = {\"x\": 73, \"y\": 98}\n",
    "dict2 = {\"z\": 56, \"w\": 89}\n",
    "combined_dict = {**dict1, **dict2}\n",
    "print(combined_dict)"
   ]
  },
  {
   "cell_type": "code",
   "execution_count": null,
   "id": "4a87ec8f",
   "metadata": {},
   "outputs": [
    {
     "name": "stdout",
     "output_type": "stream",
     "text": [
      "{'a', 'b', 'c'}\n"
     ]
    }
   ],
   "source": [
    "# Q30. Convert a list of strings into a set\n",
    "string_list = [\"a\", \"b\", \"c\", \"a\"]\n",
    "string_set = set(string_list)\n",
    "print(string_set)"
   ]
  },
  {
   "cell_type": "code",
   "execution_count": null,
   "id": "d053bd9b",
   "metadata": {},
   "outputs": [],
   "source": []
  },
  {
   "cell_type": "code",
   "execution_count": null,
   "id": "4efa2091",
   "metadata": {},
   "outputs": [],
   "source": []
  },
  {
   "cell_type": "code",
   "execution_count": null,
   "id": "5b077412",
   "metadata": {},
   "outputs": [],
   "source": []
  }
 ],
 "metadata": {
  "kernelspec": {
   "display_name": "Python 3",
   "language": "python",
   "name": "python3"
  },
  "language_info": {
   "codemirror_mode": {
    "name": "ipython",
    "version": 3
   },
   "file_extension": ".py",
   "mimetype": "text/x-python",
   "name": "python",
   "nbconvert_exporter": "python",
   "pygments_lexer": "ipython3",
   "version": "3.13.7"
  }
 },
 "nbformat": 4,
 "nbformat_minor": 5
}
